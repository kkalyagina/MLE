{
 "cells": [
  {
   "cell_type": "code",
   "execution_count": null,
   "id": "aggregate-tomorrow",
   "metadata": {},
   "outputs": [],
   "source": [
    "!pip install yfinance"
   ]
  },
  {
   "cell_type": "code",
   "execution_count": null,
   "id": "silver-yield",
   "metadata": {},
   "outputs": [],
   "source": [
    "!pip install my_package"
   ]
  },
  {
   "cell_type": "code",
   "execution_count": 4,
   "id": "understanding-appendix",
   "metadata": {
    "scrolled": true
   },
   "outputs": [],
   "source": [
    "#import my_package\n",
    "import yfinance as yf\n",
    "from typing import Union, AnyStr, ByteString, List\n",
    "import pandas as pd\n",
    "import numpy as np\n",
    "import matplotlib.pyplot as plt\n",
    "from datetime import datetime"
   ]
  },
  {
   "cell_type": "code",
   "execution_count": 9,
   "id": "unexpected-wright",
   "metadata": {},
   "outputs": [
    {
     "name": "stdout",
     "output_type": "stream",
     "text": [
      "[*********************100%***********************]  1 of 1 completed\n"
     ]
    }
   ],
   "source": [
    "data = yf.download(\"AAPL\", period=\"7d\")"
   ]
  },
  {
   "cell_type": "code",
   "execution_count": 10,
   "id": "entertaining-terminology",
   "metadata": {},
   "outputs": [
    {
     "data": {
      "text/html": [
       "<div>\n",
       "<style scoped>\n",
       "    .dataframe tbody tr th:only-of-type {\n",
       "        vertical-align: middle;\n",
       "    }\n",
       "\n",
       "    .dataframe tbody tr th {\n",
       "        vertical-align: top;\n",
       "    }\n",
       "\n",
       "    .dataframe thead th {\n",
       "        text-align: right;\n",
       "    }\n",
       "</style>\n",
       "<table border=\"1\" class=\"dataframe\">\n",
       "  <thead>\n",
       "    <tr style=\"text-align: right;\">\n",
       "      <th></th>\n",
       "      <th>Open</th>\n",
       "      <th>High</th>\n",
       "      <th>Low</th>\n",
       "      <th>Close</th>\n",
       "      <th>Adj Close</th>\n",
       "      <th>Volume</th>\n",
       "    </tr>\n",
       "    <tr>\n",
       "      <th>Date</th>\n",
       "      <th></th>\n",
       "      <th></th>\n",
       "      <th></th>\n",
       "      <th></th>\n",
       "      <th></th>\n",
       "      <th></th>\n",
       "    </tr>\n",
       "  </thead>\n",
       "  <tbody>\n",
       "    <tr>\n",
       "      <th>2021-03-03</th>\n",
       "      <td>124.809998</td>\n",
       "      <td>125.709999</td>\n",
       "      <td>121.839996</td>\n",
       "      <td>122.059998</td>\n",
       "      <td>122.059998</td>\n",
       "      <td>112430400</td>\n",
       "    </tr>\n",
       "    <tr>\n",
       "      <th>2021-03-04</th>\n",
       "      <td>121.750000</td>\n",
       "      <td>123.599998</td>\n",
       "      <td>118.620003</td>\n",
       "      <td>120.129997</td>\n",
       "      <td>120.129997</td>\n",
       "      <td>177275300</td>\n",
       "    </tr>\n",
       "    <tr>\n",
       "      <th>2021-03-05</th>\n",
       "      <td>120.980003</td>\n",
       "      <td>121.940002</td>\n",
       "      <td>117.570000</td>\n",
       "      <td>121.419998</td>\n",
       "      <td>121.419998</td>\n",
       "      <td>153590400</td>\n",
       "    </tr>\n",
       "    <tr>\n",
       "      <th>2021-03-08</th>\n",
       "      <td>120.930000</td>\n",
       "      <td>121.000000</td>\n",
       "      <td>116.209999</td>\n",
       "      <td>116.360001</td>\n",
       "      <td>116.360001</td>\n",
       "      <td>153918600</td>\n",
       "    </tr>\n",
       "    <tr>\n",
       "      <th>2021-03-09</th>\n",
       "      <td>119.029999</td>\n",
       "      <td>122.059998</td>\n",
       "      <td>118.790001</td>\n",
       "      <td>121.089996</td>\n",
       "      <td>121.089996</td>\n",
       "      <td>129159600</td>\n",
       "    </tr>\n",
       "    <tr>\n",
       "      <th>2021-03-10</th>\n",
       "      <td>121.690002</td>\n",
       "      <td>122.169998</td>\n",
       "      <td>119.449997</td>\n",
       "      <td>119.980003</td>\n",
       "      <td>119.980003</td>\n",
       "      <td>111760400</td>\n",
       "    </tr>\n",
       "    <tr>\n",
       "      <th>2021-03-11</th>\n",
       "      <td>122.540001</td>\n",
       "      <td>123.209999</td>\n",
       "      <td>121.260002</td>\n",
       "      <td>121.959999</td>\n",
       "      <td>121.959999</td>\n",
       "      <td>99598709</td>\n",
       "    </tr>\n",
       "  </tbody>\n",
       "</table>\n",
       "</div>"
      ],
      "text/plain": [
       "                  Open        High         Low       Close   Adj Close  \\\n",
       "Date                                                                     \n",
       "2021-03-03  124.809998  125.709999  121.839996  122.059998  122.059998   \n",
       "2021-03-04  121.750000  123.599998  118.620003  120.129997  120.129997   \n",
       "2021-03-05  120.980003  121.940002  117.570000  121.419998  121.419998   \n",
       "2021-03-08  120.930000  121.000000  116.209999  116.360001  116.360001   \n",
       "2021-03-09  119.029999  122.059998  118.790001  121.089996  121.089996   \n",
       "2021-03-10  121.690002  122.169998  119.449997  119.980003  119.980003   \n",
       "2021-03-11  122.540001  123.209999  121.260002  121.959999  121.959999   \n",
       "\n",
       "               Volume  \n",
       "Date                   \n",
       "2021-03-03  112430400  \n",
       "2021-03-04  177275300  \n",
       "2021-03-05  153590400  \n",
       "2021-03-08  153918600  \n",
       "2021-03-09  129159600  \n",
       "2021-03-10  111760400  \n",
       "2021-03-11   99598709  "
      ]
     },
     "execution_count": 10,
     "metadata": {},
     "output_type": "execute_result"
    }
   ],
   "source": [
    "data"
   ]
  },
  {
   "cell_type": "code",
   "execution_count": null,
   "id": "northern-filing",
   "metadata": {},
   "outputs": [],
   "source": [
    "def get_df(get_df = yf.download('AAPL')):\n",
    "    return get_df"
   ]
  },
  {
   "cell_type": "code",
   "execution_count": null,
   "id": "threatened-adams",
   "metadata": {},
   "outputs": [
    {
     "name": "stderr",
     "output_type": "stream",
     "text": [
      "Exception in thread Thread-6:\n",
      "Traceback (most recent call last):\n",
      "  File \"/home/osboxes/anaconda3/envs/redisai/lib/python3.7/threading.py\", line 926, in _bootstrap_inner\n",
      "    self.run()\n",
      "  File \"/home/osboxes/anaconda3/envs/redisai/lib/python3.7/threading.py\", line 870, in run\n",
      "    self._target(*self._args, **self._kwargs)\n",
      "  File \"/home/osboxes/anaconda3/envs/redisai/lib/python3.7/site-packages/multitasking/__init__.py\", line 102, in _run_via_pool\n",
      "    return callee(*args, **kwargs)\n",
      "  File \"/home/osboxes/anaconda3/envs/redisai/lib/python3.7/site-packages/yfinance/multi.py\", line 167, in _download_one_threaded\n",
      "    actions, period, interval, prepost, proxy, rounding)\n",
      "  File \"/home/osboxes/anaconda3/envs/redisai/lib/python3.7/site-packages/yfinance/multi.py\", line 182, in _download_one\n",
      "    rounding=rounding, many=True)\n",
      "  File \"/home/osboxes/anaconda3/envs/redisai/lib/python3.7/site-packages/yfinance/base.py\", line 122, in history\n",
      "    _time.strptime(str(start), '%Y-%m-%d')))\n",
      "  File \"/home/osboxes/anaconda3/envs/redisai/lib/python3.7/_strptime.py\", line 571, in _strptime_time\n",
      "    tt = _strptime(data_string, format)[0]\n",
      "  File \"/home/osboxes/anaconda3/envs/redisai/lib/python3.7/_strptime.py\", line 359, in _strptime\n",
      "    (data_string, format))\n",
      "ValueError: time data '7d' does not match format '%Y-%m-%d'\n",
      "\n"
     ]
    }
   ],
   "source": [
    "get_df(\"AAPL\", '7d')"
   ]
  },
  {
   "cell_type": "code",
   "execution_count": null,
   "id": "legendary-store",
   "metadata": {},
   "outputs": [],
   "source": []
  },
  {
   "cell_type": "code",
   "execution_count": null,
   "id": "civilian-latter",
   "metadata": {},
   "outputs": [],
   "source": [
    "data['Adj Close'].plot()\n",
    "plt.xlabel(\"Date\")\n",
    "plt.ylabel(\"Adjusted\")\n",
    "#plt.title(\"Apple\")\n",
    "#plt.style.use('dark_background')\n",
    "plt.show()"
   ]
  },
  {
   "cell_type": "code",
   "execution_count": null,
   "id": "pleased-roulette",
   "metadata": {},
   "outputs": [],
   "source": [
    "def plot_7d(self,\n",
    "            df: Union[np.ndarray, list]):\n",
    "    return plt.show()\n"
   ]
  },
  {
   "cell_type": "code",
   "execution_count": null,
   "id": "floral-advice",
   "metadata": {},
   "outputs": [],
   "source": [
    "data['Close']"
   ]
  },
  {
   "cell_type": "code",
   "execution_count": null,
   "id": "bronze-place",
   "metadata": {},
   "outputs": [],
   "source": [
    "plot_7d(data['Close'])"
   ]
  },
  {
   "cell_type": "code",
   "execution_count": null,
   "id": "potential-domestic",
   "metadata": {},
   "outputs": [],
   "source": [
    "def get_df(ticker, period):\n",
    "    data=yf.download(ticker, \"7d\")\n",
    "    return data\n",
    "    "
   ]
  },
  {
   "cell_type": "code",
   "execution_count": null,
   "id": "satellite-appreciation",
   "metadata": {},
   "outputs": [],
   "source": [
    "def download(tickers, start=None, end=None):\n",
    "    return pd.DataFrame"
   ]
  },
  {
   "cell_type": "code",
   "execution_count": 8,
   "id": "backed-arlington",
   "metadata": {},
   "outputs": [
    {
     "data": {
      "text/html": [
       "<div>\n",
       "<style scoped>\n",
       "    .dataframe tbody tr th:only-of-type {\n",
       "        vertical-align: middle;\n",
       "    }\n",
       "\n",
       "    .dataframe tbody tr th {\n",
       "        vertical-align: top;\n",
       "    }\n",
       "\n",
       "    .dataframe thead th {\n",
       "        text-align: right;\n",
       "    }\n",
       "</style>\n",
       "<table border=\"1\" class=\"dataframe\">\n",
       "  <thead>\n",
       "    <tr style=\"text-align: right;\">\n",
       "      <th></th>\n",
       "      <th>Open</th>\n",
       "      <th>High</th>\n",
       "      <th>Low</th>\n",
       "      <th>Close</th>\n",
       "      <th>Adj Close</th>\n",
       "      <th>Volume</th>\n",
       "    </tr>\n",
       "    <tr>\n",
       "      <th>Date</th>\n",
       "      <th></th>\n",
       "      <th></th>\n",
       "      <th></th>\n",
       "      <th></th>\n",
       "      <th></th>\n",
       "      <th></th>\n",
       "    </tr>\n",
       "  </thead>\n",
       "  <tbody>\n",
       "    <tr>\n",
       "      <th>2021-03-01</th>\n",
       "      <td>123.750000</td>\n",
       "      <td>127.930000</td>\n",
       "      <td>122.790001</td>\n",
       "      <td>127.790001</td>\n",
       "      <td>127.790001</td>\n",
       "      <td>115998300</td>\n",
       "    </tr>\n",
       "    <tr>\n",
       "      <th>2021-03-02</th>\n",
       "      <td>128.410004</td>\n",
       "      <td>128.720001</td>\n",
       "      <td>125.010002</td>\n",
       "      <td>125.120003</td>\n",
       "      <td>125.120003</td>\n",
       "      <td>102015300</td>\n",
       "    </tr>\n",
       "    <tr>\n",
       "      <th>2021-03-03</th>\n",
       "      <td>124.809998</td>\n",
       "      <td>125.709999</td>\n",
       "      <td>121.839996</td>\n",
       "      <td>122.059998</td>\n",
       "      <td>122.059998</td>\n",
       "      <td>112430400</td>\n",
       "    </tr>\n",
       "    <tr>\n",
       "      <th>2021-03-04</th>\n",
       "      <td>121.750000</td>\n",
       "      <td>123.599998</td>\n",
       "      <td>118.620003</td>\n",
       "      <td>120.129997</td>\n",
       "      <td>120.129997</td>\n",
       "      <td>177275300</td>\n",
       "    </tr>\n",
       "    <tr>\n",
       "      <th>2021-03-05</th>\n",
       "      <td>120.980003</td>\n",
       "      <td>121.940002</td>\n",
       "      <td>117.570000</td>\n",
       "      <td>121.419998</td>\n",
       "      <td>121.419998</td>\n",
       "      <td>153590400</td>\n",
       "    </tr>\n",
       "  </tbody>\n",
       "</table>\n",
       "</div>"
      ],
      "text/plain": [
       "                  Open        High         Low       Close   Adj Close  \\\n",
       "Date                                                                     \n",
       "2021-03-01  123.750000  127.930000  122.790001  127.790001  127.790001   \n",
       "2021-03-02  128.410004  128.720001  125.010002  125.120003  125.120003   \n",
       "2021-03-03  124.809998  125.709999  121.839996  122.059998  122.059998   \n",
       "2021-03-04  121.750000  123.599998  118.620003  120.129997  120.129997   \n",
       "2021-03-05  120.980003  121.940002  117.570000  121.419998  121.419998   \n",
       "\n",
       "               Volume  \n",
       "Date                   \n",
       "2021-03-01  115998300  \n",
       "2021-03-02  102015300  \n",
       "2021-03-03  112430400  \n",
       "2021-03-04  177275300  \n",
       "2021-03-05  153590400  "
      ]
     },
     "execution_count": 8,
     "metadata": {},
     "output_type": "execute_result"
    }
   ],
   "source": [
    "get_df()\n"
   ]
  },
  {
   "cell_type": "code",
   "execution_count": null,
   "id": "recent-graphic",
   "metadata": {
    "scrolled": true
   },
   "outputs": [],
   "source": [
    "download(\"AAPL\", \"2021-03-01\", \"2021-03-07\")"
   ]
  },
  {
   "cell_type": "code",
   "execution_count": null,
   "id": "adjacent-dispatch",
   "metadata": {},
   "outputs": [],
   "source": [
    "my_package.plot_7d(df)"
   ]
  },
  {
   "cell_type": "code",
   "execution_count": null,
   "id": "spread-wrapping",
   "metadata": {},
   "outputs": [],
   "source": []
  }
 ],
 "metadata": {
  "kernelspec": {
   "display_name": "Python 3",
   "language": "python",
   "name": "python3"
  },
  "language_info": {
   "codemirror_mode": {
    "name": "ipython",
    "version": 3
   },
   "file_extension": ".py",
   "mimetype": "text/x-python",
   "name": "python",
   "nbconvert_exporter": "python",
   "pygments_lexer": "ipython3",
   "version": "3.7.9"
  }
 },
 "nbformat": 4,
 "nbformat_minor": 5
}
